{
 "cells": [
  {
   "cell_type": "markdown",
   "metadata": {},
   "source": [
    "1. Gmailからの(指定の)受信メールを取得しデータフレームにする<br>\n",
    "  [参考にしたサイト](https://di-acc2.com/system/rpa/3031/#index_id12)\n",
    "2. データフレームを加工する"
   ]
  },
  {
   "cell_type": "code",
   "execution_count": null,
   "metadata": {},
   "outputs": [],
   "source": [
    "\"\"\" ライブラリ読込 \"\"\"\n",
    "import imapclient\n",
    "from backports import ssl\n",
    "from OpenSSL import SSL \n",
    "import pyzmail\n",
    "import pandas as pd\n",
    "pd.options.display.max_columns = None\n",
    "pd.options.display.max_rows = None"
   ]
  },
  {
   "cell_type": "code",
   "execution_count": null,
   "metadata": {},
   "outputs": [],
   "source": [
    "import os\n",
    "\n",
    "\"\"\" (要編集) 引数指定 \"\"\" \n",
    "#ログイン情報\n",
    "my_mail = os.getenv(\"my_mail\")\n",
    "app_password = os.getenv(\"app_password\")\n",
    "\n",
    "#メール検索条件\n",
    "FolderName = \"INBOX\"\n",
    "Search_KWD = [\"FROM\", \"1695kose@wits2003.jp\"]\n",
    "\n",
    "\"\"\" 関数定義 \"\"\"\n",
    "def Get_Mail(my_mail, app_password, FolderName, Search_KWD):\n",
    "    \n",
    "    \"\"\" ① IMAPサーバー接続 & SSL化 \"\"\"\n",
    "    context = ssl.SSLContext(SSL.TLSv1_2_METHOD)\n",
    "    imap = imapclient.IMAPClient(\"imap.gmail.com\", ssl=True, ssl_context=context)\n",
    "    \n",
    "    \"\"\" ② IMAPログイン \"\"\"\n",
    "    imap.login(my_mail, app_password)\n",
    "    \n",
    "    \n",
    "    \"\"\" ③ メール検索 \"\"\"\n",
    "    #対象の受信メールフォルダを指定\n",
    "    imap.select_folder(FolderName, readonly=True)\n",
    "    \n",
    "    #検索キーワードを設定 & 検索キーワードに紐づくメールID検索\n",
    "    KWD = imap.search(Search_KWD)\n",
    "    \n",
    "    #メールID→メール本文取得\n",
    "    raw_message = imap.fetch(KWD,[\"BODY[]\"])\n",
    "    \n",
    "    \"\"\"  ④ 解析結果保存 \"\"\"\n",
    "    #検索結果保存用\n",
    "    From_list     = []\n",
    "    Cc_list       = []\n",
    "    Bcc_list      = []\n",
    "    Subject_list  = []\n",
    "    Body_list     = []\n",
    "    \n",
    "    #メール解析\n",
    "    for j in range(len(KWD)):\n",
    "        #特定メール取得\n",
    "        message = pyzmail.PyzMessage.factory(raw_message[KWD[j]][b\"BODY[]\"])\n",
    "\n",
    "        #宛先取得\n",
    "        From = message.get_addresses(\"from\")\n",
    "        From_list.append(From)\n",
    "\n",
    "        Cc = message.get_addresses(\"cc\")\n",
    "        Cc_list.append(Cc)\n",
    "\n",
    "        Bcc = message.get_addresses(\"bcc\")\n",
    "        Bcc_list.append(Bcc)\n",
    "\n",
    "        #件名取得\n",
    "        Subject = message.get_subject()\n",
    "        Subject_list.append(Subject)\n",
    "\n",
    "        #本文\n",
    "        # \"ignore\"オプションをつけてdecodeすると、デコード不可な文字は無視して無理やりdecodeしてくれます。\n",
    "        Body = message.text_part.get_payload().decode(\"iso-2022-jp\", \"ignore\")\n",
    "        Body_list.append(Body)\n",
    "\n",
    "\n",
    "    #Pandas データフレーム\n",
    "    table = pd.DataFrame({\"From\":From_list,\n",
    "                          \"Cc\":Cc_list,\n",
    "                          \"Bcc\":Bcc_list,\n",
    "                          \"件名\":Subject_list,\n",
    "                          \"本文\":Body_list,\n",
    "                         })\n",
    "\n",
    "    #IMAPログアウト\n",
    "    # imap.logout()\n",
    "\n",
    "    return table"
   ]
  },
  {
   "cell_type": "code",
   "execution_count": null,
   "metadata": {},
   "outputs": [],
   "source": [
    "# 関数実行\n",
    "mail_df = Get_Mail(my_mail, app_password, FolderName, Search_KWD)"
   ]
  },
  {
   "cell_type": "code",
   "execution_count": null,
   "metadata": {},
   "outputs": [],
   "source": [
    "mail_df.head()"
   ]
  },
  {
   "cell_type": "markdown",
   "metadata": {},
   "source": [
    "# データフレームの加工"
   ]
  },
  {
   "cell_type": "code",
   "execution_count": null,
   "metadata": {},
   "outputs": [],
   "source": [
    "import numpy as np"
   ]
  },
  {
   "cell_type": "code",
   "execution_count": null,
   "metadata": {},
   "outputs": [],
   "source": [
    "# 授業日報だけのメールを取得する\n",
    "report_df = mail_df[mail_df['件名'].str.contains('授業日報')]"
   ]
  },
  {
   "cell_type": "code",
   "execution_count": null,
   "metadata": {},
   "outputs": [],
   "source": [
    "# ●授業日　03月02日 (水)\n",
    "# ●時間　20時00分から80分\n",
    "# ●時間　20時00分から80分\n",
    "# ●教科　"
   ]
  },
  {
   "cell_type": "code",
   "execution_count": null,
   "metadata": {},
   "outputs": [],
   "source": [
    "# 日付だけ、時間だけのカラムを作る\n",
    "report_df['日付'] = report_df['本文'].apply(lambda x : x[x.find('●授業日')+5:x.find('●時間')-2])\n",
    "report_df['時間'] = report_df['本文'].apply(lambda x : x[x.find('●時間')+4:x.find('●教科')-2])\n",
    "# report_df['日時'] = report_df.apply(lambda x: f\"{x['日付']} {x['時間']}\", axis=1)\n",
    "report_df.head()\n",
    "# 時間だけのカラムを作る"
   ]
  },
  {
   "cell_type": "code",
   "execution_count": null,
   "metadata": {},
   "outputs": [],
   "source": [
    "# 講師だけのカラムを作る\n",
    "report_df['講師'] = report_df['本文'].apply(lambda x : x[x.find('講師')+3:x.find('\\r\\n●授業日')])"
   ]
  },
  {
   "cell_type": "code",
   "execution_count": null,
   "metadata": {},
   "outputs": [],
   "source": [
    "# 授業の様子(講師より)だけのカラムを作る\n",
    "report_df['授業の様子'] = report_df['本文'].apply(lambda x : x[x.find('授業の様子(講師より)')+13:x.find('●本日')])\n",
    "# 必要な列だけのdfにする\n",
    "to_souma_df=report_df.loc[:, ['日付','時間', '講師','授業の様子']]\n",
    "#文字コードをutf8に統一する為に、encoding=\"utf8\"というオプションを記載\n",
    "to_souma_df.to_csv(\"to_souma.csv\",index=None,encoding=\"utf8\")"
   ]
  }
 ],
 "metadata": {
  "interpreter": {
   "hash": "db30e5a26f81a7e4aa46570870d27ceb0684f20708778e87fbbc16f52d5f9870"
  },
  "kernelspec": {
   "display_name": "Python 3.9.6 64-bit ('venv': venv)",
   "language": "python",
   "name": "python3"
  },
  "language_info": {
   "codemirror_mode": {
    "name": "ipython",
    "version": 3
   },
   "file_extension": ".py",
   "mimetype": "text/x-python",
   "name": "python",
   "nbconvert_exporter": "python",
   "pygments_lexer": "ipython3",
   "version": "3.9.6"
  },
  "orig_nbformat": 4
 },
 "nbformat": 4,
 "nbformat_minor": 2
}
