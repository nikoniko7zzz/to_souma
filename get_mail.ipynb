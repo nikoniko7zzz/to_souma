{
 "cells": [
  {
   "cell_type": "markdown",
   "metadata": {},
   "source": [
    "1. Gmailからの(指定の)受信メールを取得しデータフレームにする<br>\n",
    "  [参考にしたサイト](https://di-acc2.com/system/rpa/3031/#index_id12)\n",
    "2. データフレームを加工する"
   ]
  },
  {
   "cell_type": "code",
   "execution_count": 158,
   "metadata": {},
   "outputs": [],
   "source": [
    "\"\"\" ライブラリ読込 \"\"\"\n",
    "import imapclient\n",
    "from backports import ssl\n",
    "from OpenSSL import SSL \n",
    "import pyzmail\n",
    "import pandas as pd\n",
    "pd.options.display.max_columns = None\n",
    "pd.options.display.max_rows = None"
   ]
  },
  {
   "cell_type": "code",
   "execution_count": 159,
   "metadata": {},
   "outputs": [],
   "source": [
    "import os\n",
    "\n",
    "\"\"\" (要編集) 引数指定 \"\"\" \n",
    "#ログイン情報\n",
    "my_mail = os.getenv(\"my_mail\")\n",
    "app_password = os.getenv(\"app_password\")\n",
    "\n",
    "#メール検索条件\n",
    "FolderName = \"INBOX\"\n",
    "Search_KWD = [\"FROM\", \"1695kose@wits2003.jp\"]\n",
    "\n",
    "\"\"\" 関数定義 \"\"\"\n",
    "def Get_Mail(my_mail, app_password, FolderName, Search_KWD):\n",
    "    \n",
    "    \"\"\" ① IMAPサーバー接続 & SSL化 \"\"\"\n",
    "    context = ssl.SSLContext(SSL.TLSv1_2_METHOD)\n",
    "    # context = ssl.SSLContext(ssl.PROTOCOL_TLSv1_2)\n",
    "    imap = imapclient.IMAPClient(\"imap.gmail.com\", ssl=True, ssl_context=context)\n",
    "    \n",
    "    \"\"\" ② IMAPログイン \"\"\"\n",
    "    imap.login(my_mail,app_password)\n",
    "    \n",
    "    \n",
    "    \"\"\" ③ メール検索 \"\"\"\n",
    "    #対象の受信メールフォルダを指定\n",
    "    imap.select_folder(FolderName, readonly=True)\n",
    "    \n",
    "    #検索キーワードを設定 & 検索キーワードに紐づくメールID検索\n",
    "    KWD = imap.search(Search_KWD)\n",
    "    \n",
    "    #メールID→メール本文取得\n",
    "    raw_message = imap.fetch(KWD,[\"BODY[]\"])\n",
    "    \n",
    "    \"\"\"  ④ 解析結果保存 \"\"\"\n",
    "    #検索結果保存用\n",
    "    From_list     = []\n",
    "    Cc_list       = []\n",
    "    Bcc_list      = []\n",
    "    Subject_list  = []\n",
    "    Body_list     = []\n",
    "    \n",
    "    #メール解析\n",
    "    for j in range(len(KWD)):\n",
    "        #特定メール取得\n",
    "        message = pyzmail.PyzMessage.factory(raw_message[KWD[j]][b\"BODY[]\"])\n",
    "\n",
    "        #宛先取得\n",
    "        From = message.get_addresses(\"from\")\n",
    "        From_list.append(From)\n",
    "\n",
    "        Cc = message.get_addresses(\"cc\")\n",
    "        Cc_list.append(Cc)\n",
    "\n",
    "        Bcc = message.get_addresses(\"bcc\")\n",
    "        Bcc_list.append(Bcc)\n",
    "\n",
    "        #件名取得\n",
    "        Subject = message.get_subject()\n",
    "        Subject_list.append(Subject)\n",
    "\n",
    "        #本文\n",
    "        # \"ignore\"オプションをつけてdecodeすると、デコード不可な文字は無視して無理やりdecodeしてくれます。\n",
    "        Body = message.text_part.get_payload().decode(\"iso-2022-jp\", \"ignore\")\n",
    "        Body_list.append(Body)\n",
    "\n",
    "\n",
    "    #Pandas データフレーム\n",
    "    table = pd.DataFrame({\"From\":From_list,\n",
    "                          \"Cc\":Cc_list,\n",
    "                          \"Bcc\":Bcc_list,\n",
    "                          \"件名\":Subject_list,\n",
    "                          \"本文\":Body_list,\n",
    "                         })\n",
    "\n",
    "    #IMAPログアウト\n",
    "    #imap.logout()\n",
    "\n",
    "    return table"
   ]
  },
  {
   "cell_type": "code",
   "execution_count": 160,
   "metadata": {},
   "outputs": [],
   "source": [
    "# 関数実行\n",
    "mail_df = Get_Mail(my_mail, app_password, FolderName, Search_KWD)"
   ]
  },
  {
   "cell_type": "code",
   "execution_count": 161,
   "metadata": {},
   "outputs": [
    {
     "data": {
      "text/html": [
       "<div>\n",
       "<style scoped>\n",
       "    .dataframe tbody tr th:only-of-type {\n",
       "        vertical-align: middle;\n",
       "    }\n",
       "\n",
       "    .dataframe tbody tr th {\n",
       "        vertical-align: top;\n",
       "    }\n",
       "\n",
       "    .dataframe thead th {\n",
       "        text-align: right;\n",
       "    }\n",
       "</style>\n",
       "<table border=\"1\" class=\"dataframe\">\n",
       "  <thead>\n",
       "    <tr style=\"text-align: right;\">\n",
       "      <th></th>\n",
       "      <th>From</th>\n",
       "      <th>Cc</th>\n",
       "      <th>Bcc</th>\n",
       "      <th>件名</th>\n",
       "      <th>本文</th>\n",
       "    </tr>\n",
       "  </thead>\n",
       "  <tbody>\n",
       "    <tr>\n",
       "      <th>0</th>\n",
       "      <td>[(1695kose@wits2003.jp, 1695kose@wits2003.jp)]</td>\n",
       "      <td>[]</td>\n",
       "      <td>[]</td>\n",
       "      <td>【受験生infoメール0923�（新着情報版）】【受験生infoメール0923�（過去送信版）】</td>\n",
       "      <td>（中３生の方へ送信）\\r\\n\\r\\nいつも大変お世話になっております，ITTOの松藤です。受...</td>\n",
       "    </tr>\n",
       "    <tr>\n",
       "      <th>1</th>\n",
       "      <td>[(1695kose@wits2003.jp, 1695kose@wits2003.jp)]</td>\n",
       "      <td>[]</td>\n",
       "      <td>[]</td>\n",
       "      <td>【重要】保護者対象・入試説明会のお知らせ</td>\n",
       "      <td>（中３生の方へ送信）\\r\\nいつも大変お世話になっております，ITTOの松藤です。\\r\\n中...</td>\n",
       "    </tr>\n",
       "    <tr>\n",
       "      <th>2</th>\n",
       "      <td>[(1695kose@wits2003.jp, 1695kose@wits2003.jp)]</td>\n",
       "      <td>[]</td>\n",
       "      <td>[]</td>\n",
       "      <td>【再送】入試説明会，最新の参加人数です。変更も受け付けております</td>\n",
       "      <td>※昨日送信したメールですが，参加人数を最新版に更新しております。\\r\\n※変更に応じていただ...</td>\n",
       "    </tr>\n",
       "    <tr>\n",
       "      <th>3</th>\n",
       "      <td>[(1695kose@wits2003.jp, 1695kose@wits2003.jp)]</td>\n",
       "      <td>[]</td>\n",
       "      <td>[]</td>\n",
       "      <td>本年もよろしくお願いいたします！</td>\n",
       "      <td>（全保護者様へ送信）\\r\\n新年あけましておめでとうございます。今年もどうぞよろしくお願いい...</td>\n",
       "    </tr>\n",
       "    <tr>\n",
       "      <th>4</th>\n",
       "      <td>[(1695kose@wits2003.jp, 1695kose@wits2003.jp)]</td>\n",
       "      <td>[]</td>\n",
       "      <td>[]</td>\n",
       "      <td>01月07日の授業日報につきまして</td>\n",
       "      <td>いつも大変お世話になりありがとうございます。\\r\\nITTO個別指導学院 佐賀巨勢校です。\\...</td>\n",
       "    </tr>\n",
       "  </tbody>\n",
       "</table>\n",
       "</div>"
      ],
      "text/plain": [
       "                                             From  Cc Bcc  \\\n",
       "0  [(1695kose@wits2003.jp, 1695kose@wits2003.jp)]  []  []   \n",
       "1  [(1695kose@wits2003.jp, 1695kose@wits2003.jp)]  []  []   \n",
       "2  [(1695kose@wits2003.jp, 1695kose@wits2003.jp)]  []  []   \n",
       "3  [(1695kose@wits2003.jp, 1695kose@wits2003.jp)]  []  []   \n",
       "4  [(1695kose@wits2003.jp, 1695kose@wits2003.jp)]  []  []   \n",
       "\n",
       "                                                 件名  \\\n",
       "0  【受験生infoメール0923�（新着情報版）】【受験生infoメール0923�（過去送信版）】   \n",
       "1                              【重要】保護者対象・入試説明会のお知らせ   \n",
       "2                  【再送】入試説明会，最新の参加人数です。変更も受け付けております   \n",
       "3                                  本年もよろしくお願いいたします！   \n",
       "4                                 01月07日の授業日報につきまして   \n",
       "\n",
       "                                                  本文  \n",
       "0  （中３生の方へ送信）\\r\\n\\r\\nいつも大変お世話になっております，ITTOの松藤です。受...  \n",
       "1  （中３生の方へ送信）\\r\\nいつも大変お世話になっております，ITTOの松藤です。\\r\\n中...  \n",
       "2  ※昨日送信したメールですが，参加人数を最新版に更新しております。\\r\\n※変更に応じていただ...  \n",
       "3  （全保護者様へ送信）\\r\\n新年あけましておめでとうございます。今年もどうぞよろしくお願いい...  \n",
       "4  いつも大変お世話になりありがとうございます。\\r\\nITTO個別指導学院 佐賀巨勢校です。\\...  "
      ]
     },
     "execution_count": 161,
     "metadata": {},
     "output_type": "execute_result"
    }
   ],
   "source": [
    "mail_df.head()"
   ]
  },
  {
   "cell_type": "markdown",
   "metadata": {},
   "source": [
    "# データフレームの加工"
   ]
  },
  {
   "cell_type": "code",
   "execution_count": 162,
   "metadata": {},
   "outputs": [],
   "source": [
    "import numpy as np"
   ]
  },
  {
   "cell_type": "code",
   "execution_count": 163,
   "metadata": {},
   "outputs": [],
   "source": [
    "# 授業日報だけのメールを取得する\n",
    "report_df = mail_df[mail_df['件名'].str.contains('授業日報')]"
   ]
  },
  {
   "cell_type": "code",
   "execution_count": 164,
   "metadata": {},
   "outputs": [],
   "source": [
    "# ●授業日　03月02日 (水)\n",
    "# ●時間　20時00分から80分\n",
    "# ●時間　20時00分から80分\n",
    "# ●教科　"
   ]
  },
  {
   "cell_type": "code",
   "execution_count": 165,
   "metadata": {},
   "outputs": [
    {
     "name": "stderr",
     "output_type": "stream",
     "text": [
      "/var/folders/x4/8hbz4flj6_bg96s9y3b69rb80000gn/T/ipykernel_64230/3406159213.py:2: SettingWithCopyWarning: \n",
      "A value is trying to be set on a copy of a slice from a DataFrame.\n",
      "Try using .loc[row_indexer,col_indexer] = value instead\n",
      "\n",
      "See the caveats in the documentation: https://pandas.pydata.org/pandas-docs/stable/user_guide/indexing.html#returning-a-view-versus-a-copy\n",
      "  report_df['日付'] = report_df['本文'].apply(lambda x : x[x.find('●授業日')+5:x.find('●時間')-2])\n",
      "/var/folders/x4/8hbz4flj6_bg96s9y3b69rb80000gn/T/ipykernel_64230/3406159213.py:3: SettingWithCopyWarning: \n",
      "A value is trying to be set on a copy of a slice from a DataFrame.\n",
      "Try using .loc[row_indexer,col_indexer] = value instead\n",
      "\n",
      "See the caveats in the documentation: https://pandas.pydata.org/pandas-docs/stable/user_guide/indexing.html#returning-a-view-versus-a-copy\n",
      "  report_df['時間'] = report_df['本文'].apply(lambda x : x[x.find('●時間')+4:x.find('●教科')-2])\n"
     ]
    },
    {
     "data": {
      "text/html": [
       "<div>\n",
       "<style scoped>\n",
       "    .dataframe tbody tr th:only-of-type {\n",
       "        vertical-align: middle;\n",
       "    }\n",
       "\n",
       "    .dataframe tbody tr th {\n",
       "        vertical-align: top;\n",
       "    }\n",
       "\n",
       "    .dataframe thead th {\n",
       "        text-align: right;\n",
       "    }\n",
       "</style>\n",
       "<table border=\"1\" class=\"dataframe\">\n",
       "  <thead>\n",
       "    <tr style=\"text-align: right;\">\n",
       "      <th></th>\n",
       "      <th>From</th>\n",
       "      <th>Cc</th>\n",
       "      <th>Bcc</th>\n",
       "      <th>件名</th>\n",
       "      <th>本文</th>\n",
       "      <th>日付</th>\n",
       "      <th>時間</th>\n",
       "    </tr>\n",
       "  </thead>\n",
       "  <tbody>\n",
       "    <tr>\n",
       "      <th>4</th>\n",
       "      <td>[(1695kose@wits2003.jp, 1695kose@wits2003.jp)]</td>\n",
       "      <td>[]</td>\n",
       "      <td>[]</td>\n",
       "      <td>01月07日の授業日報につきまして</td>\n",
       "      <td>いつも大変お世話になりありがとうございます。\\r\\nITTO個別指導学院 佐賀巨勢校です。\\...</td>\n",
       "      <td>01月07日 (金)</td>\n",
       "      <td>13時00分から100分</td>\n",
       "    </tr>\n",
       "    <tr>\n",
       "      <th>5</th>\n",
       "      <td>[(1695kose@wits2003.jp, 1695kose@wits2003.jp)]</td>\n",
       "      <td>[]</td>\n",
       "      <td>[]</td>\n",
       "      <td>01月07日の授業日報につきまして</td>\n",
       "      <td>いつも大変お世話になりありがとうございます。\\r\\nITTO個別指導学院 佐賀巨勢校です。\\...</td>\n",
       "      <td>01月07日 (金)</td>\n",
       "      <td>15時00分から100分</td>\n",
       "    </tr>\n",
       "    <tr>\n",
       "      <th>6</th>\n",
       "      <td>[(1695kose@wits2003.jp, 1695kose@wits2003.jp)]</td>\n",
       "      <td>[]</td>\n",
       "      <td>[]</td>\n",
       "      <td>01月07日の授業日報につきまして</td>\n",
       "      <td>いつも大変お世話になりありがとうございます。\\r\\nITTO個別指導学院 佐賀巨勢校です。\\...</td>\n",
       "      <td>01月07日 (金)</td>\n",
       "      <td>20時00分から80分</td>\n",
       "    </tr>\n",
       "    <tr>\n",
       "      <th>9</th>\n",
       "      <td>[(1695kose@wits2003.jp, 1695kose@wits2003.jp)]</td>\n",
       "      <td>[]</td>\n",
       "      <td>[]</td>\n",
       "      <td>01月15日の授業日報につきまして</td>\n",
       "      <td>いつも大変お世話になりありがとうございます。\\r\\nITTO個別指導学院 佐賀巨勢校です。\\...</td>\n",
       "      <td>01月15日 (土)</td>\n",
       "      <td>13時00分から100分</td>\n",
       "    </tr>\n",
       "    <tr>\n",
       "      <th>10</th>\n",
       "      <td>[(1695kose@wits2003.jp, 1695kose@wits2003.jp)]</td>\n",
       "      <td>[]</td>\n",
       "      <td>[]</td>\n",
       "      <td>01月15日の授業日報につきまして</td>\n",
       "      <td>いつも大変お世話になりありがとうございます。\\r\\nITTO個別指導学院 佐賀巨勢校です。\\...</td>\n",
       "      <td>01月15日 (土)</td>\n",
       "      <td>18時00分から100分</td>\n",
       "    </tr>\n",
       "  </tbody>\n",
       "</table>\n",
       "</div>"
      ],
      "text/plain": [
       "                                              From  Cc Bcc                 件名  \\\n",
       "4   [(1695kose@wits2003.jp, 1695kose@wits2003.jp)]  []  []  01月07日の授業日報につきまして   \n",
       "5   [(1695kose@wits2003.jp, 1695kose@wits2003.jp)]  []  []  01月07日の授業日報につきまして   \n",
       "6   [(1695kose@wits2003.jp, 1695kose@wits2003.jp)]  []  []  01月07日の授業日報につきまして   \n",
       "9   [(1695kose@wits2003.jp, 1695kose@wits2003.jp)]  []  []  01月15日の授業日報につきまして   \n",
       "10  [(1695kose@wits2003.jp, 1695kose@wits2003.jp)]  []  []  01月15日の授業日報につきまして   \n",
       "\n",
       "                                                   本文          日付  \\\n",
       "4   いつも大変お世話になりありがとうございます。\\r\\nITTO個別指導学院 佐賀巨勢校です。\\...  01月07日 (金)   \n",
       "5   いつも大変お世話になりありがとうございます。\\r\\nITTO個別指導学院 佐賀巨勢校です。\\...  01月07日 (金)   \n",
       "6   いつも大変お世話になりありがとうございます。\\r\\nITTO個別指導学院 佐賀巨勢校です。\\...  01月07日 (金)   \n",
       "9   いつも大変お世話になりありがとうございます。\\r\\nITTO個別指導学院 佐賀巨勢校です。\\...  01月15日 (土)   \n",
       "10  いつも大変お世話になりありがとうございます。\\r\\nITTO個別指導学院 佐賀巨勢校です。\\...  01月15日 (土)   \n",
       "\n",
       "              時間  \n",
       "4   13時00分から100分  \n",
       "5   15時00分から100分  \n",
       "6    20時00分から80分  \n",
       "9   13時00分から100分  \n",
       "10  18時00分から100分  "
      ]
     },
     "execution_count": 165,
     "metadata": {},
     "output_type": "execute_result"
    }
   ],
   "source": [
    "# 日付だけ、時間だけのカラムを作る\n",
    "report_df['日付'] = report_df['本文'].apply(lambda x : x[x.find('●授業日')+5:x.find('●時間')-2])\n",
    "report_df['時間'] = report_df['本文'].apply(lambda x : x[x.find('●時間')+4:x.find('●教科')-2])\n",
    "# report_df['日時'] = report_df.apply(lambda x: f\"{x['日付']} {x['時間']}\", axis=1)\n",
    "report_df.head()\n",
    "# 時間だけのカラムを作る"
   ]
  },
  {
   "cell_type": "code",
   "execution_count": 166,
   "metadata": {},
   "outputs": [
    {
     "name": "stderr",
     "output_type": "stream",
     "text": [
      "/var/folders/x4/8hbz4flj6_bg96s9y3b69rb80000gn/T/ipykernel_64230/1344642912.py:2: SettingWithCopyWarning: \n",
      "A value is trying to be set on a copy of a slice from a DataFrame.\n",
      "Try using .loc[row_indexer,col_indexer] = value instead\n",
      "\n",
      "See the caveats in the documentation: https://pandas.pydata.org/pandas-docs/stable/user_guide/indexing.html#returning-a-view-versus-a-copy\n",
      "  report_df['講師'] = report_df['本文'].apply(lambda x : x[x.find('講師')+3:x.find('\\r\\n●授業日')])\n"
     ]
    }
   ],
   "source": [
    "# 講師だけのカラムを作る\n",
    "report_df['講師'] = report_df['本文'].apply(lambda x : x[x.find('講師')+3:x.find('\\r\\n●授業日')])"
   ]
  },
  {
   "cell_type": "code",
   "execution_count": 167,
   "metadata": {},
   "outputs": [
    {
     "name": "stderr",
     "output_type": "stream",
     "text": [
      "/var/folders/x4/8hbz4flj6_bg96s9y3b69rb80000gn/T/ipykernel_64230/1369451925.py:2: SettingWithCopyWarning: \n",
      "A value is trying to be set on a copy of a slice from a DataFrame.\n",
      "Try using .loc[row_indexer,col_indexer] = value instead\n",
      "\n",
      "See the caveats in the documentation: https://pandas.pydata.org/pandas-docs/stable/user_guide/indexing.html#returning-a-view-versus-a-copy\n",
      "  report_df['授業の様子'] = report_df['本文'].apply(lambda x : x[x.find('授業の様子(講師より)')+13:x.find('●本日')])\n"
     ]
    }
   ],
   "source": [
    "# 授業の様子(講師より)だけのカラムを作る\n",
    "report_df['授業の様子'] = report_df['本文'].apply(lambda x : x[x.find('授業の様子(講師より)')+13:x.find('●本日')])\n",
    "# 必要な列だけのdfにする\n",
    "to_souma_df=report_df.loc[:, ['日付','時間', '講師','授業の様子']]\n",
    "#文字コードをutf8に統一する為に、encoding=\"utf8\"というオプションを記載\n",
    "to_souma_df.to_csv(\"to_souma.csv\",index=None,encoding=\"utf8\")"
   ]
  }
 ],
 "metadata": {
  "interpreter": {
   "hash": "db30e5a26f81a7e4aa46570870d27ceb0684f20708778e87fbbc16f52d5f9870"
  },
  "kernelspec": {
   "display_name": "Python 3.9.6 64-bit ('venv': venv)",
   "language": "python",
   "name": "python3"
  },
  "language_info": {
   "codemirror_mode": {
    "name": "ipython",
    "version": 3
   },
   "file_extension": ".py",
   "mimetype": "text/x-python",
   "name": "python",
   "nbconvert_exporter": "python",
   "pygments_lexer": "ipython3",
   "version": "3.9.6"
  },
  "orig_nbformat": 4
 },
 "nbformat": 4,
 "nbformat_minor": 2
}
